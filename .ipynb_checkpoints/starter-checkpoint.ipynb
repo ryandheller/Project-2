{
 "cells": [
  {
   "cell_type": "code",
   "execution_count": 4,
   "metadata": {},
   "outputs": [],
   "source": [
    "api_key = \"REVeQu6ErJR69xuO8n21kyuUA0Xt4lV1\"\n",
    "def make_url(date):\n",
    "    url = f\"https://api.nytimes.com/svc/books/v3/lists/{date}/combined-print-and-e-book-fiction.json?={api_key}\"\n",
    "    print(url)"
   ]
  },
  {
   "cell_type": "code",
   "execution_count": 5,
   "metadata": {},
   "outputs": [
    {
     "name": "stdout",
     "output_type": "stream",
     "text": [
      "https://api.nytimes.com/svc/books/v3/lists/2019-03-03/combined-print-and-e-book-fiction.json?=REVeQu6ErJR69xuO8n21kyuUA0Xt4lV1\n"
     ]
    }
   ],
   "source": [
    "make_url('2019-03-03')"
   ]
  }
 ],
 "metadata": {
  "kernelspec": {
   "display_name": "Python 3",
   "language": "python",
   "name": "python3"
  },
  "language_info": {
   "codemirror_mode": {
    "name": "ipython",
    "version": 3
   },
   "file_extension": ".py",
   "mimetype": "text/x-python",
   "name": "python",
   "nbconvert_exporter": "python",
   "pygments_lexer": "ipython3",
   "version": "3.7.0"
  }
 },
 "nbformat": 4,
 "nbformat_minor": 2
}
