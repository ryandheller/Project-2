{
 "cells": [
  {
   "cell_type": "code",
   "execution_count": 1,
   "metadata": {},
   "outputs": [],
   "source": [
    "import re\n",
    "from bs4 import BeautifulSoup\n",
    "import pandas as pd"
   ]
  },
  {
   "cell_type": "code",
   "execution_count": 3,
   "metadata": {},
   "outputs": [
    {
     "name": "stdout",
     "output_type": "stream",
     "text": [
      "04/04/2019  06:09 PM         1,153,375 Where-Crawdads-Sing-Delia-Owens.html\n"
     ]
    }
   ],
   "source": [
    "%ls | grep html"
   ]
  },
  {
   "cell_type": "code",
   "execution_count": 14,
   "metadata": {},
   "outputs": [],
   "source": [
    "def read_html_find_price(html_file):\n",
    "    with open(html_file, 'r', encoding='utf-8') as f:\n",
    "        soup = BeautifulSoup(f, \"html.parser\")\n",
    "    return soup\n",
    "\n",
    "soup = read_html_find_price('Where-Crawdads-Sing-Delia-Owens.html')\n",
    "price_block = soup.find('ul', {\"class\": \"a-unordered-list a-nostyle a-button-list a-horizontal\"}).get_text()\n",
    "first_price = re.findall('\\$\\d{1,}\\.\\d{1,}', price_block)[0]"
   ]
  },
  {
   "cell_type": "code",
   "execution_count": 29,
   "metadata": {},
   "outputs": [
    {
     "data": {
      "text/plain": [
       "{'Kindle': ['$12.99'],\n",
       " 'Audio': ['$16.81'],\n",
       " 'Hardcover': ['$15.60'],\n",
       " 'Paperback': ['$18.17']}"
      ]
     },
     "execution_count": 29,
     "metadata": {},
     "output_type": "execute_result"
    }
   ],
   "source": [
    "prices = soup.find('ul', {\"class\": \"a-unordered-list a-nostyle a-button-list a-horizontal\"})\\\n",
    "    .find_all(\"span\", {\"class\": \"a-button-inner\"})\n",
    "\n",
    "results = {}\n",
    "\n",
    "for p in prices:\n",
    "    if \"Kindle\" in p.get_text():\n",
    "        results['Kindle'] = re.findall('\\$\\d{1,}\\.\\d{1,}', p.get_text())\n",
    "    elif \"Hardcover\" in p.get_text():\n",
    "        results['Hardcover'] = re.findall('\\$\\d{1,}\\.\\d{1,}', p.get_text())\n",
    "    elif \"Paperback\" in p.get_text():\n",
    "        results['Paperback'] = re.findall('\\$\\d{1,}\\.\\d{1,}', p.get_text())\n",
    "    elif \"Audio\" in p.get_text():\n",
    "        results['Audio'] = re.findall('\\$\\d{1,}\\.\\d{1,}', p.get_text())\n",
    "    \n",
    "results"
   ]
  },
  {
   "cell_type": "code",
   "execution_count": null,
   "metadata": {},
   "outputs": [],
   "source": []
  }
 ],
 "metadata": {
  "kernelspec": {
   "display_name": "Python 3",
   "language": "python",
   "name": "python3"
  },
  "language_info": {
   "codemirror_mode": {
    "name": "ipython",
    "version": 3
   },
   "file_extension": ".py",
   "mimetype": "text/x-python",
   "name": "python",
   "nbconvert_exporter": "python",
   "pygments_lexer": "ipython3",
   "version": "3.7.0"
  }
 },
 "nbformat": 4,
 "nbformat_minor": 2
}
